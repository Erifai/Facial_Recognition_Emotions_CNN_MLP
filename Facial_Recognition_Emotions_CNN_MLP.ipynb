{
  "nbformat": 4,
  "nbformat_minor": 0,
  "metadata": {
    "colab": {
      "name": "Facial_Recognition_Emotions_CNN_MLP.ipynb",
      "provenance": [],
      "authorship_tag": "ABX9TyPc8DnJxWv8apZlRJyZOAl/",
      "include_colab_link": true
    },
    "kernelspec": {
      "name": "python3",
      "display_name": "Python 3"
    },
    "language_info": {
      "name": "python"
    }
  },
  "cells": [
    {
      "cell_type": "markdown",
      "metadata": {
        "id": "view-in-github",
        "colab_type": "text"
      },
      "source": [
        "<a href=\"https://colab.research.google.com/github/Erifai/Facial_Recognition_Emotions_CNN_MLP/blob/main/Facial_Recognition_Emotions_CNN_MLP.ipynb\" target=\"_parent\"><img src=\"https://colab.research.google.com/assets/colab-badge.svg\" alt=\"Open In Colab\"/></a>"
      ]
    },
    {
      "cell_type": "code",
      "metadata": {
        "id": "J9Lz4GkCqmSi"
      },
      "source": [
        "import numpy as np\n",
        "import pandas as pd\n",
        "from tensorflow.keras.preprocessing.image import ImageDataGenerator\n",
        "from tensorflow.keras.layers import Input, Conv2D, MaxPooling2D, AveragePooling2D, Flatten, Dense\n",
        "from tensorflow.keras.models import Model\n",
        "from tensorflow.keras.callbacks import EarlyStopping\n",
        "from keras.layers import Activation, Dense\n",
        "import matplotlib.pyplot as plt\n",
        "\n",
        "\n",
        "def preview_classes(X,y, class_names, nbr_examples_per_class = 10, nbr_classes = 7):\n",
        "\n",
        "    fig, axes = plt.subplots(nbr_classes, nbr_examples_per_class+1, \n",
        "                             figsize = (1*nbr_examples_per_class, 1*nbr_classes))\n",
        "    \n",
        "    for i in range(nbr_classes):\n",
        "        y_df = pd.DataFrame({'y':y})\n",
        "        class_i_random_pick = np.random.choice(y_df[y_df.y == i].index, nbr_examples_per_class, replace = False)\n",
        "        \n",
        "        #Class Name\n",
        "        axes[i, 0].text(0,0.5, class_names[i],  dict(size = 10))\n",
        "        axes[i, 0].axis('off')\n",
        "\n",
        "        for j,idx in enumerate(class_i_random_pick):\n",
        "            img = X[idx]\n",
        "            axes[i,j+1].imshow(img, cmap = 'gray')\n",
        "            axes[i,j+1].axis('off')\n",
        "\n",
        "\n",
        "\n"
      ],
      "execution_count": 1,
      "outputs": []
    },
    {
      "cell_type": "code",
      "metadata": {
        "id": "Q1FdrOuorewN"
      },
      "source": [
        ""
      ],
      "execution_count": null,
      "outputs": []
    }
  ]
}